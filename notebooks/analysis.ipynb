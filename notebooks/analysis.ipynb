{
 "cells": [
  {
   "cell_type": "code",
   "execution_count": null,
   "metadata": {},
   "outputs": [],
   "source": [
    "import os"
   ]
  },
  {
   "cell_type": "code",
   "execution_count": null,
   "metadata": {},
   "outputs": [],
   "source": [
    "from sqlalchemy import create_engine\n",
    "\n",
    "#engine = create_engine('postgresql://db_user:db_pass@pg:5432/data')\n",
    "# PG host to tell if you're in docker\n",
    "engine = create_engine(f\"postgresql://db_user:db_pass@{os.environ['PG_HOST']}:5432/data\")\n",
    "\n",
    "with engine.connect() as conn:\n",
    "\tresults_proxy = conn.execute('select 1')\n",
    "\n",
    "for r in results_proxy:\n",
    "    print(r)\n"
   ]
  },
  {
   "cell_type": "code",
   "execution_count": null,
   "metadata": {},
   "outputs": [],
   "source": []
  }
 ],
 "metadata": {
  "language_info": {
   "name": "python",
   "pygments_lexer": "ipython3"
  }
 },
 "nbformat": 4,
 "nbformat_minor": 1
}
