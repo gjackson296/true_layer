{
 "cells": [
  {
   "cell_type": "code",
   "execution_count": null,
   "metadata": {},
   "outputs": [],
   "source": [
    "import os\n",
    "\n",
    "import pandas as pd\n",
    "\n",
    "from app.film_analysis import FilmAnalysis\n",
    "\n",
    "# Notebook setup\n",
    "from IPython.core.display import display, HTML\n",
    "display(HTML(\"<style>.container { width:90% !important; }</style>\"))\n",
    "pd.set_option('display.max_rows', 500)"
   ]
  },
  {
   "cell_type": "code",
   "execution_count": null,
   "metadata": {},
   "outputs": [],
   "source": [
    "fa = FilmAnalysis(\n",
    "    db_user='db_user',\n",
    "    db_pass='db_pass',\n",
    "    db_host=os.environ.get('PG_HOST') or 'pg',\n",
    "    db_name='data',\n",
    "    db_port=5432\n",
    ")\n",
    "\n",
    "matches = fa.match_imdb_to_wiki()\n",
    "fa.write_matches_to_pg(matches, if_exists='replace')\n"
   ]
  },
  {
   "cell_type": "code",
   "execution_count": null,
   "metadata": {},
   "outputs": [],
   "source": [
    "matches = fa.read_matches_from_pg()"
   ]
  },
  {
   "cell_type": "code",
   "execution_count": null,
   "metadata": {},
   "outputs": [],
   "source": [
    "matches.sort_values(by='ratio_revenue_to_budget', ascending=False).head(500)"
   ]
  },
  {
   "cell_type": "code",
   "execution_count": null,
   "metadata": {},
   "outputs": [],
   "source": []
  }
 ],
 "metadata": {
  "language_info": {
   "name": "python",
   "pygments_lexer": "ipython3"
  }
 },
 "nbformat": 4,
 "nbformat_minor": 1
}
